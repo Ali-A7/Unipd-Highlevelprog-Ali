{
 "cells": [
  {
   "cell_type": "code",
   "execution_count": null,
   "id": "4cf640fc",
   "metadata": {},
   "outputs": [],
   "source": [
    "#Ali Ahmadi"
   ]
  },
  {
   "cell_type": "code",
   "execution_count": 6,
   "id": "6d479f32",
   "metadata": {},
   "outputs": [
    {
     "name": "stdout",
     "output_type": "stream",
     "text": [
      "[(1, 0), (1, 1), (1, 2), (1, 3), (2, 0), (2, 1), (2, 2), (2, 3), (3, 0), (3, 1), (3, 2), (3, 3)]\n",
      "[1, 9, 25, 49, 81]\n"
     ]
    }
   ],
   "source": [
    "#q1\n",
    "L=[(x, y) for x in [1,2,3] for y in range (4)]\n",
    "print(L)\n",
    "\n",
    "L = [x**2 for x in range(10) if x % 2 == 1]\n",
    "print(L)"
   ]
  },
  {
   "cell_type": "code",
   "execution_count": 7,
   "id": "bdbc1e7e",
   "metadata": {},
   "outputs": [
    {
     "name": "stdout",
     "output_type": "stream",
     "text": [
      "[1, 2, 3, 0, 1, 2, 3, 4]\n",
      "[1, 2, 3]\n"
     ]
    }
   ],
   "source": [
    "#q2\n",
    "vlist=[]\n",
    "def f(alist):\n",
    "    x = 5\n",
    "    hlist = alist+vlist\n",
    "    for i in range(x):\n",
    "         hlist.append(i)\n",
    "    return hlist\n",
    "\n",
    "alist = [1,2,3]\n",
    "ans = f(alist)\n",
    "print(ans)\n",
    "print(alist) # alist has been changed!"
   ]
  },
  {
   "cell_type": "code",
   "execution_count": 11,
   "id": "5dc2b0df",
   "metadata": {},
   "outputs": [
    {
     "name": "stdout",
     "output_type": "stream",
     "text": [
      "dear\n",
      "Ali\n",
      "welcome\n",
      "dear\n",
      "see u\n",
      "welcome\n"
     ]
    }
   ],
   "source": [
    "#q3\n",
    "\n",
    "def hello(func):\n",
    "    def wrapper():\n",
    "        print(\"dear\")\n",
    "        func()\n",
    "        print(\"welcome\")\n",
    "    return wrapper\n",
    "\n",
    "@hello\n",
    "def square():\n",
    "    print(\"Ali\")\n",
    "\n",
    "\n",
    "\n",
    "@hello\n",
    "def seeu():\n",
    "    print(\"see u\")\n",
    "\n",
    "square()   \n",
    "seeu()"
   ]
  },
  {
   "cell_type": "code",
   "execution_count": 8,
   "id": "d1f2c1e8",
   "metadata": {},
   "outputs": [
    {
     "name": "stdout",
     "output_type": "stream",
     "text": [
      "120\n"
     ]
    }
   ],
   "source": [
    "#q4a\n",
    "\n",
    "\n",
    "def fac(n):\n",
    "    s=1\n",
    "    for i in range(1,n):\n",
    "       s*=i\n",
    "    return s\n",
    "n=6    \n",
    "\n",
    "print(fac(n))    "
   ]
  },
  {
   "cell_type": "code",
   "execution_count": 9,
   "id": "c592d1bc",
   "metadata": {},
   "outputs": [
    {
     "name": "stdout",
     "output_type": "stream",
     "text": [
      "120\n"
     ]
    }
   ],
   "source": [
    "#q4b \n",
    "def recur_factorial(n):\n",
    "   if n == 1:\n",
    "       return n\n",
    "   else:\n",
    "       return n*recur_factorial(n-1)\n",
    "num = 5\n",
    "print(recur_factorial(num))"
   ]
  },
  {
   "cell_type": "code",
   "execution_count": 10,
   "id": "8dd44559",
   "metadata": {},
   "outputs": [
    {
     "name": "stdout",
     "output_type": "stream",
     "text": [
      "dict_values([[0.5, 1, 2], [3, 4, 5], [15, 20, 30]])\n",
      "Density of Circles with differet Radius and Weights 3.141592653589793\n",
      "Density of Disk with differet Radius and Weights 3.141592653589793\n",
      "Density of Sphere with differet Radius and Weights 4.1887902047863905\n",
      "Density of Circles with differet Radius and Weights 37.69911184307752\n",
      "Density of Disk with differet Radius and Weights 50.26548245743669\n",
      "Density of Sphere with differet Radius and Weights 33.510321638291124\n",
      "Density of Circles with differet Radius and Weights 282.74333882308133\n",
      "Density of Disk with differet Radius and Weights 565.4866776461628\n",
      "Density of Sphere with differet Radius and Weights 113.09733552923254\n"
     ]
    }
   ],
   "source": [
    "#q5\n",
    "import math\n",
    "densities = {\"Al\" : [0.5, 1, 2], \"Fe\" : [3, 4, 5], \"Pb\" : [15, 20, 30]}\n",
    "radii = [1, 2, 3]\n",
    "x=densities.values()\n",
    "print(x)\n",
    "for x, y in zip(x, radii):\n",
    "    d=x[0]*math.pi*2*y\n",
    "    print(\"Density of Circles with differet Radius and Weights\",d)  \n",
    "    s=x[1]*math.pi*(y**2)\n",
    "    print(\"Density of Disk with differet Radius and Weights\",s)\n",
    "    v=(4/3)*math.pi*(y**3)\n",
    "    print(\"Density of Sphere with differet Radius and Weights\",v)"
   ]
  },
  {
   "cell_type": "code",
   "execution_count": 13,
   "id": "cf5c761e",
   "metadata": {},
   "outputs": [
    {
     "ename": "IndentationError",
     "evalue": "unindent does not match any outer indentation level (<tokenize>, line 6)",
     "output_type": "error",
     "traceback": [
      "\u001b[1;36m  File \u001b[1;32m\"<tokenize>\"\u001b[1;36m, line \u001b[1;32m6\u001b[0m\n\u001b[1;33m    species = 'mammal'\u001b[0m\n\u001b[1;37m    ^\u001b[0m\n\u001b[1;31mIndentationError\u001b[0m\u001b[1;31m:\u001b[0m unindent does not match any outer indentation level\n"
     ]
    }
   ],
   "source": [
    "#q6\n",
    "# Parent class\n",
    "class Dog:\n",
    "     is_hungry = True\n",
    "    # Class attribute\n",
    "    species = 'mammal'\n",
    "\n",
    "    # Initializer / Instance attributes\n",
    "    def __init__(self, name, age):\n",
    "        self.name = name\n",
    "        self.age = age\n",
    "\n",
    "    # instance method\n",
    "    def description(self):\n",
    "        return \"{} is {} years old\".format(self.name, self.age)\n",
    "\n",
    "    # instance method\n",
    "    def speak(self, sound):\n",
    "        return \"{} says {}\".format(self.name, sound)\n",
    "\n",
    "# Child class (inherits from Dog class)\n",
    "class RussellTerrier(Dog):\n",
    "    def run(self, speed):\n",
    "        return \"{} runs {}\".format(self.name, speed)\n",
    "\n",
    "# Child class (inherits from Dog class)\n",
    "class Bulldog(Dog):\n",
    "    def run(self, speed):\n",
    "        return \"{} runs {}\".format(self.name, speed)"
   ]
  },
  {
   "cell_type": "code",
   "execution_count": null,
   "id": "ba345ef4",
   "metadata": {},
   "outputs": [],
   "source": []
  }
 ],
 "metadata": {
  "kernelspec": {
   "display_name": "Python 3",
   "language": "python",
   "name": "python3"
  },
  "language_info": {
   "codemirror_mode": {
    "name": "ipython",
    "version": 3
   },
   "file_extension": ".py",
   "mimetype": "text/x-python",
   "name": "python",
   "nbconvert_exporter": "python",
   "pygments_lexer": "ipython3",
   "version": "3.8.8"
  }
 },
 "nbformat": 4,
 "nbformat_minor": 5
}
