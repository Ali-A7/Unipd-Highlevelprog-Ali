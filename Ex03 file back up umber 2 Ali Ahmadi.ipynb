{
 "cells": [
  {
   "cell_type": "code",
   "execution_count": 1,
   "id": "d9c913a7",
   "metadata": {},
   "outputs": [],
   "source": [
    "#Ali Ahmadi\n",
    "#ex3"
   ]
  },
  {
   "cell_type": "code",
   "execution_count": null,
   "id": "889dde90",
   "metadata": {},
   "outputs": [],
   "source": [
    "#q3\n",
    "#q3  soloution\n",
    "#warning runtime error\n",
    "a=1\n",
    "b=0.2\n",
    "while a+ b/2 !=a+b:\n",
    "    b=b/2\n",
    "    a=a+b\n",
    "print(b)\n",
    "h=1\n",
    "f=2\n",
    "while h+ f*2 !=h+f:\n",
    "    h=f*2\n",
    "    h=h+f\n",
    "print(f)\n"
   ]
  },
  {
   "cell_type": "code",
   "execution_count": null,
   "id": "df912c3d",
   "metadata": {},
   "outputs": [],
   "source": [
    "#q4a\n",
    "#it takes too long and in q4b i changed the initializes to get faster to the answer and i got approximate answer\n",
    "a=1\n",
    "b=1\n",
    "while a+b!=a+2*b:\n",
    "    a=b+a\n",
    "    print(a)\n",
    "\n",
    "print(a)\n",
    "#approximate answer\n",
    "#126228200000000"
   ]
  }
 ],
 "metadata": {
  "kernelspec": {
   "display_name": "Python 3",
   "language": "python",
   "name": "python3"
  },
  "language_info": {
   "codemirror_mode": {
    "name": "ipython",
    "version": 3
   },
   "file_extension": ".py",
   "mimetype": "text/x-python",
   "name": "python",
   "nbconvert_exporter": "python",
   "pygments_lexer": "ipython3",
   "version": "3.8.8"
  }
 },
 "nbformat": 4,
 "nbformat_minor": 5
}
