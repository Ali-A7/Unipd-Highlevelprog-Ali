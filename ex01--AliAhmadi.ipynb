{
 "cells": [
  {
   "cell_type": "code",
   "execution_count": 1,
   "id": "0115799c",
   "metadata": {},
   "outputs": [],
   "source": [
    "#Ali Ahmadi"
   ]
  },
  {
   "cell_type": "code",
   "execution_count": 2,
   "id": "467469a7",
   "metadata": {},
   "outputs": [
    {
     "name": "stdout",
     "output_type": "stream",
     "text": [
      "1\n",
      "2\n",
      "Hello\n",
      "4\n",
      "World\n",
      "Hello\n",
      "7\n",
      "8\n",
      "Hello\n",
      "World\n",
      "11\n",
      "Hello\n",
      "13\n",
      "14\n",
      "Hello World\n",
      "16\n",
      "17\n",
      "Hello\n",
      "19\n",
      "World\n",
      "Hello\n",
      "22\n",
      "23\n",
      "Hello\n",
      "World\n",
      "26\n",
      "Hello\n",
      "28\n",
      "29\n",
      "Hello World\n",
      "31\n",
      "32\n",
      "Hello\n",
      "34\n",
      "World\n",
      "Hello\n",
      "37\n",
      "38\n",
      "Hello\n",
      "World\n",
      "41\n",
      "Hello\n",
      "43\n",
      "44\n",
      "Hello World\n",
      "46\n",
      "47\n",
      "Hello\n",
      "49\n",
      "World\n",
      "Hello\n",
      "52\n",
      "53\n",
      "Hello\n",
      "World\n",
      "56\n",
      "Hello\n",
      "58\n",
      "59\n",
      "Hello World\n",
      "61\n",
      "62\n",
      "Hello\n",
      "64\n",
      "World\n",
      "Hello\n",
      "67\n",
      "68\n",
      "Hello\n",
      "World\n",
      "71\n",
      "Hello\n",
      "73\n",
      "74\n",
      "Hello World\n",
      "76\n",
      "77\n",
      "Hello\n",
      "79\n",
      "World\n",
      "Hello\n",
      "82\n",
      "83\n",
      "Hello\n",
      "World\n",
      "86\n",
      "Hello\n",
      "88\n",
      "89\n",
      "Hello World\n",
      "91\n",
      "92\n",
      "Hello\n",
      "94\n",
      "World\n",
      "Hello\n",
      "97\n",
      "98\n",
      "Hello\n",
      "World\n"
     ]
    }
   ],
   "source": [
    "#Question1-a\n",
    "for x in range(1,101):\n",
    "    if x%15 == 0:   \n",
    "       print(\"Hello World\")\n",
    "       continue\n",
    "    elif x%3 == 0:\n",
    "       print(\"Hello\")\n",
    "       continue\n",
    "    elif x%5 == 0:   \n",
    "       print(\"World\")\n",
    "       continue\n",
    "    print(x) "
   ]
  },
  {
   "cell_type": "code",
   "execution_count": 3,
   "id": "c14099cc",
   "metadata": {},
   "outputs": [
    {
     "name": "stdout",
     "output_type": "stream",
     "text": [
      "ENTER number 1 PLEASE: 5\n",
      "ENTER number 2 PLEASE: 6\n",
      "number1 = 6\n",
      "number2 = 5\n"
     ]
    }
   ],
   "source": [
    "#Question2\n",
    "def my_function(number1,number2):\n",
    "    number3= number1 \n",
    "    number1= number2\n",
    "    number2= number3\n",
    "    print(\"number1 =\", number1)\n",
    "    print(\"number2 =\", number2)\n",
    "    \n",
    "number1 = input(\"ENTER number 1 PLEASE: \")\n",
    "number2 = input(\"ENTER number 2 PLEASE: \")\n",
    "my_function(number1,number2)\n"
   ]
  },
  {
   "cell_type": "code",
   "execution_count": 4,
   "id": "90b1c8fa",
   "metadata": {},
   "outputs": [
    {
     "name": "stdout",
     "output_type": "stream",
     "text": [
      "5.0\n"
     ]
    }
   ],
   "source": [
    "#Question3\n",
    "import math\n",
    "def distance (p0, p1):\n",
    "    return math.sqrt((p0[0] - p1[0])**2 + (p0[1] - p1[1])**2)\n",
    "    \n",
    "p0=(3,0)\n",
    "p1=(0,4)\n",
    "print(distance(p0,p1))"
   ]
  },
  {
   "cell_type": "code",
   "execution_count": 5,
   "id": "b49e8b5c",
   "metadata": {},
   "outputs": [
    {
     "name": "stdout",
     "output_type": "stream",
     "text": [
      "{'W': 3, 'r': 19, 'i': 12, 't': 19, 'e': 20, ' ': 41, 'a': 7, 'p': 8, 'o': 15, 'g': 1, 'm': 8, 'h': 9, 'n': 10, 's': 7, 'u': 7, 'b': 4, 'f': 9, '1': 2, '0': 2, '.': 3, 'B': 1, 'l': 12, 'H': 2, 'd': 5, 'v': 2, 'F': 1, 'w': 1, 'c': 1}\n"
     ]
    }
   ],
   "source": [
    "#Question4\n",
    "s = \"Write a program that prints the numbers from 1 to 100. \\\n",
    "But for multiples of three print Hello instead of the number and for the multiples of five print World. \\\n",
    "For numbers which are multiples of both three and five print HelloWorld.\"\n",
    "frc = {}\n",
    "for i in s:\n",
    "    if i in frc:\n",
    "        frc[i] += 1\n",
    "    else:\n",
    "        frc[i] = 1\n",
    "print ( str(frc))\n"
   ]
  },
  {
   "cell_type": "code",
   "execution_count": 6,
   "id": "c8df0610",
   "metadata": {},
   "outputs": [
    {
     "name": "stdout",
     "output_type": "stream",
     "text": [
      "Number of unique items:  54\n",
      "List of Unique numbers:  [36, 45, 58, 3, 74, 96, 64, 31, 10, 24, 19, 33, 86, 99, 18, 63, 70, 85, 47, 56, 42, 84, 88, 55, 20, 54, 8, 51, 79, 81, 57, 37, 91, 1, 66, 9, 89, 50, 95, 90, 98, 39, 16, 82, 92, 41, 30, 34, 94, 5, 72, 87, 75, 53]\n",
      "Number of All items:  80\n"
     ]
    }
   ],
   "source": [
    "#Question5\n",
    "V=[]\n",
    "a=0\n",
    "k=0\n",
    "l = [36, 45, 58, 3, 74, 96, 64, 45, 31, 10, 24, 19, 33, 86, 99, 18, 63, 70, 85,\n",
    " 85, 63, 47, 56, 42, 70, 84, 88, 55, 20, 54, 8, 56, 51, 79, 81, 57, 37, 91,\n",
    " 1, 84, 84, 36, 66, 9, 89, 50, 42, 91, 50, 95, 90, 98, 39, 16, 82, 31, 92, 41,\n",
    " 45, 30, 66, 70, 34, 85, 94, 5, 3, 36, 72, 91, 84, 34, 87, 75, 53, 51, 20, 89, 51, 20]\n",
    "for i in l:\n",
    "    k+=1\n",
    "    if i not in V:\n",
    "        V.append(i)\n",
    "        a+=1\n",
    "print(\"Number of unique items: \",a)\n",
    "print(\"List of Unique numbers: \",V)\n",
    "print(\"Number of All items: \",k)"
   ]
  },
  {
   "cell_type": "code",
   "execution_count": 7,
   "id": "b0d16433",
   "metadata": {},
   "outputs": [
    {
     "name": "stdout",
     "output_type": "stream",
     "text": [
      "25\n",
      "125.0\n",
      "15625.0\n"
     ]
    }
   ],
   "source": [
    "#Question6\n",
    "import math\n",
    "def sq (n):\n",
    "    m=n*n\n",
    "    return m\n",
    "def cu (n):\n",
    "    v=3\n",
    "    j = math.pow(n,v)\n",
    "    return j\n",
    "n=5\n",
    "\n",
    "print(sq (n))\n",
    "print(cu (n))\n",
    "print(sq(cu(n)))"
   ]
  },
  {
   "cell_type": "code",
   "execution_count": 8,
   "id": "37df1db0",
   "metadata": {},
   "outputs": [
    {
     "name": "stdout",
     "output_type": "stream",
     "text": [
      "[0, 1, 8, 27, 64, 125, 216, 343, 512, 729]\n",
      "[0, 1, 8, 27, 64, 125, 216, 343, 512, 729]\n"
     ]
    }
   ],
   "source": [
    "#Question7a\n",
    "l=[]\n",
    "for i in range(0,10):\n",
    "    i=i**3\n",
    "    l.append(i)\n",
    "print(l)    \n",
    "#Question7b\n",
    "k=[i**3 for i in range(10)]\n",
    "print(k)\n",
    "\n"
   ]
  },
  {
   "cell_type": "code",
   "execution_count": 9,
   "id": "237267c3",
   "metadata": {},
   "outputs": [
    {
     "name": "stdout",
     "output_type": "stream",
     "text": [
      "((5, 3, 4), (5, 4, 3), (10, 6, 8), (10, 8, 6), (13, 5, 12), (13, 12, 5), (15, 9, 12), (15, 12, 9), (17, 8, 15), (17, 15, 8), (20, 12, 16), (20, 16, 12), (25, 7, 24), (25, 15, 20), (25, 20, 15), (25, 24, 7), (26, 10, 24), (26, 24, 10), (29, 20, 21), (29, 21, 20), (30, 18, 24), (30, 24, 18), (34, 16, 30), (34, 30, 16), (35, 21, 28), (35, 28, 21), (37, 12, 35), (37, 35, 12), (39, 15, 36), (39, 36, 15), (40, 24, 32), (40, 32, 24), (41, 9, 40), (41, 40, 9), (45, 27, 36), (45, 36, 27), (50, 14, 48), (50, 30, 40), (50, 40, 30), (50, 48, 14), (51, 24, 45), (51, 45, 24), (52, 20, 48), (52, 48, 20), (53, 28, 45), (53, 45, 28), (55, 33, 44), (55, 44, 33), (58, 40, 42), (58, 42, 40), (60, 36, 48), (60, 48, 36), (61, 11, 60), (61, 60, 11), (65, 16, 63), (65, 25, 60), (65, 33, 56), (65, 39, 52), (65, 52, 39), (65, 56, 33), (65, 60, 25), (65, 63, 16), (68, 32, 60), (68, 60, 32), (70, 42, 56), (70, 56, 42), (73, 48, 55), (73, 55, 48), (74, 24, 70), (74, 70, 24), (75, 21, 72), (75, 45, 60), (75, 60, 45), (75, 72, 21), (78, 30, 72), (78, 72, 30), (80, 48, 64), (80, 64, 48), (82, 18, 80), (82, 80, 18), (85, 13, 84), (85, 36, 77), (85, 40, 75), (85, 51, 68), (85, 68, 51), (85, 75, 40), (85, 77, 36), (85, 84, 13), (87, 60, 63), (87, 63, 60), (89, 39, 80), (89, 80, 39), (90, 54, 72), (90, 72, 54), (91, 35, 84), (91, 84, 35), (95, 57, 76), (95, 76, 57), (97, 65, 72), (97, 72, 65), (100, 28, 96), (100, 60, 80), (100, 80, 60), (100, 96, 28))\n"
     ]
    }
   ],
   "source": [
    "#Question8\n",
    "l=()\n",
    "for a in range(1,101):\n",
    "    for b in range (1,101):\n",
    "        for c in range(1,101):\n",
    "            if (a**2)==(b**2)+(c**2):\n",
    "                    l=l+((a,b,c),)\n",
    "                           \n",
    "print(l) \n"
   ]
  },
  {
   "cell_type": "code",
   "execution_count": 10,
   "id": "dfb48864",
   "metadata": {},
   "outputs": [
    {
     "ename": "SyntaxError",
     "evalue": "invalid syntax (<ipython-input-10-a4fa50124db2>, line 5)",
     "output_type": "error",
     "traceback": [
      "\u001b[1;36m  File \u001b[1;32m\"<ipython-input-10-a4fa50124db2>\"\u001b[1;36m, line \u001b[1;32m5\u001b[0m\n\u001b[1;33m    if a[i]\u001b[0m\n\u001b[1;37m           ^\u001b[0m\n\u001b[1;31mSyntaxError\u001b[0m\u001b[1;31m:\u001b[0m invalid syntax\n"
     ]
    }
   ],
   "source": [
    "#Question9\n",
    "a = [2,4,10,6,8,4]\n",
    "amin, amax = min(a), max(a)\n",
    "for i, val in enumerate(a):\n",
    "    if a[i]\n",
    "    a[i] = (val-amin) / (amax-amin)\n",
    "print(a)"
   ]
  }
 ],
 "metadata": {
  "kernelspec": {
   "display_name": "Python 3",
   "language": "python",
   "name": "python3"
  },
  "language_info": {
   "codemirror_mode": {
    "name": "ipython",
    "version": 3
   },
   "file_extension": ".py",
   "mimetype": "text/x-python",
   "name": "python",
   "nbconvert_exporter": "python",
   "pygments_lexer": "ipython3",
   "version": "3.8.8"
  }
 },
 "nbformat": 4,
 "nbformat_minor": 5
}
