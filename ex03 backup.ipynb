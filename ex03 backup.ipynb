{
 "cells": [
  {
   "cell_type": "code",
   "execution_count": 1,
   "id": "75f6a143",
   "metadata": {},
   "outputs": [],
   "source": [
    "#q3"
   ]
  },
  {
   "cell_type": "code",
   "execution_count": null,
   "id": "968ff9e6",
   "metadata": {},
   "outputs": [],
   "source": [
    "#question1\n",
    "def bintodec(a):\n",
    "    a1=int(a, 2)\n",
    "    return a1\n",
    "\n",
    "def hextodec(b):\n",
    "    b1=int(b, 16)\n",
    "    return b1\n",
    "\n",
    "def hextobin(c):\n",
    "    c1=int(c, 16)\n",
    "    c2=bin(c1)\n",
    "    return c2\n",
    "\n",
    "def bintohex(d):\n",
    "    d1=int(d,2)\n",
    "    d2=hex(d1)\n",
    "    return d2\n",
    "\n",
    "def dectobin(e):\n",
    "    e1=bin(e)\n",
    "    return e1\n",
    "\n",
    "def dectohex(f):\n",
    "    f1=hex(f)\n",
    "    return f1\n",
    "\n",
    "print(dectobin(5))\n",
    "print(dectohex(5))"
   ]
  },
  {
   "cell_type": "code",
   "execution_count": null,
   "id": "1e7e25a6",
   "metadata": {},
   "outputs": [],
   "source": [
    "#q2\n",
    "a=512354622031\n",
    "c=bin(512354622031)\n",
    "print(c)\n",
    "if a>0:\n",
    "    sign=0\n",
    "else:\n",
    "    sign=1\n",
    "f=len(c)\n",
    "print(f)\n",
    "po=f-3\n",
    "poo=bin(po)\n",
    "print(poo)\n",
    "fac=c[3:]\n",
    "print(fac)\n",
    "print(\"number in IEEE floating point is:\"sign,poo,fac)"
   ]
  },
  {
   "cell_type": "code",
   "execution_count": 2,
   "id": "09c338ce",
   "metadata": {},
   "outputs": [
    {
     "name": "stdout",
     "output_type": "stream",
     "text": [
      "00000000000000000000000000110110\n",
      "<class 'str'>\n",
      "-5.877490671640706e-39\n",
      "-1 1.0000032186508179 5.877471754111438e-39\n"
     ]
    }
   ],
   "source": [
    "#q2\n",
    "a=54\n",
    "s=0\n",
    "t=1\n",
    "o=1\n",
    "w=0\n",
    "c=\"{:032b}\".format(a)\n",
    "print(c)\n",
    "print(type(c))\n",
    "#alamat\n",
    "if c[0]==0:\n",
    "    sign=1\n",
    "else:\n",
    "    sign=(-1)\n",
    "#tavan\n",
    "d=c[7:1]    \n",
    "for i in d:\n",
    "    t=t*2\n",
    "    v=t*i\n",
    "    s=s+v\n",
    "h=s-127\n",
    "p=2**h\n",
    "#fraction\n",
    "r=c[8:]\n",
    "for j in r:\n",
    "    o=o/2\n",
    "    u=int(j)*o\n",
    "    w=w+u\n",
    "    \n",
    "q=p*(w+1)*sign\n",
    "print(q)\n",
    "x=1+w\n",
    "print(sign,x,2**h)"
   ]
  },
  {
   "cell_type": "code",
   "execution_count": null,
   "id": "20931a9f",
   "metadata": {},
   "outputs": [],
   "source": [
    "#q5a\n",
    "import math\n",
    "def fac (a,b,c):\n",
    "    k=(b*b)-(4*a*c)\n",
    "    x1=(-b+math.sqrt(k))/(2*a)\n",
    "    x2=(-b-math.sqrt(k))/(2*a)\n",
    "    return x1,x2\n",
    "a=0.001\n",
    "b=1000\n",
    "c=0.001\n",
    "m,n=fac(a,b,c)\n",
    "print (m,n)            \n",
    "        "
   ]
  },
  {
   "cell_type": "code",
   "execution_count": null,
   "id": "08fe6c6e",
   "metadata": {},
   "outputs": [],
   "source": [
    "#q5b\n",
    "import math\n",
    "def fac (a,b,c):\n",
    "    k=(b*b)-(4*a*c)\n",
    "    x1=((-b+math.sqrt(k))*((-b+math.sqrt(k)))/(2*a)*((-b+math.sqrt(k))))\n",
    "    x2=((-b-math.sqrt(k))*((-b-math.sqrt(k)))/(2*a)*((-b-math.sqrt(k))))\n",
    "    \n",
    "    return x1,x2\n",
    "a=0.001\n",
    "b=1000\n",
    "c=0.001\n",
    "m,n=fac(a,b,c)\n",
    "print (m,n)       "
   ]
  },
  {
   "cell_type": "code",
   "execution_count": null,
   "id": "41c77b9d",
   "metadata": {},
   "outputs": [],
   "source": [
    "#q6a\n",
    "x=1\n",
    "e=1\n",
    "v=0.01\n",
    "g=((((x+v)*((x+v)-1)))-(x*(x-1)))/v\n",
    "print(g)\n"
   ]
  },
  {
   "cell_type": "code",
   "execution_count": null,
   "id": "ed820c92",
   "metadata": {},
   "outputs": [],
   "source": [
    "#q6b\n",
    "x=1\n",
    "for i in range (4,14,2):\n",
    "    v=10**(-i)\n",
    "    g=((((x+v)*((x+v)-1)))-(x*(x-1)))/v\n",
    "    print(\"with delta \",10**(-i),\"reault is: \",g)"
   ]
  },
  {
   "cell_type": "code",
   "execution_count": null,
   "id": "dc12af25",
   "metadata": {},
   "outputs": [],
   "source": [
    "#q7\n",
    "import math\n",
    "#first number of domain\n",
    "m=-1\n",
    "#last number of the domain\n",
    "M=1\n",
    "#whole domain\n",
    "N=100\n",
    "#delta= 0.02= 1-(-1)/100\n",
    "delta= (M-m)/N\n",
    "s=0\n",
    "#xk= -1 + delta *k\n",
    "for i in range (1,N+1):\n",
    "    xk= -1 + delta*i\n",
    "    yk= math.sqrt(1 - xk**2)\n",
    "    hyk= yk*delta\n",
    "    s= s+hyk\n",
    "print(s)"
   ]
  },
  {
   "cell_type": "code",
   "execution_count": null,
   "id": "58249971",
   "metadata": {},
   "outputs": [],
   "source": []
  }
 ],
 "metadata": {
  "kernelspec": {
   "display_name": "Python 3",
   "language": "python",
   "name": "python3"
  },
  "language_info": {
   "codemirror_mode": {
    "name": "ipython",
    "version": 3
   },
   "file_extension": ".py",
   "mimetype": "text/x-python",
   "name": "python",
   "nbconvert_exporter": "python",
   "pygments_lexer": "ipython3",
   "version": "3.8.8"
  }
 },
 "nbformat": 4,
 "nbformat_minor": 5
}
